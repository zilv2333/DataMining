{
 "cells": [
  {
   "metadata": {
    "ExecuteTime": {
     "end_time": "2024-09-13T13:43:51.198304Z",
     "start_time": "2024-09-13T13:43:51.183507Z"
    }
   },
   "cell_type": "code",
   "source": [
    "import numpy as np\n",
    "import pandas as pd\n",
    "import treelib\n"
   ],
   "id": "508e4a2f7e56e987",
   "outputs": [],
   "execution_count": 3
  },
  {
   "cell_type": "code",
   "id": "initial_id",
   "metadata": {
    "collapsed": true,
    "ExecuteTime": {
     "end_time": "2024-09-13T13:43:51.214260Z",
     "start_time": "2024-09-13T13:43:51.199995Z"
    }
   },
   "source": [
    "def Ent(probability):\n",
    "    probability=probability/np.sum(probability,axis=1).reshape(probability.shape[0],-1)\n",
    "    # print(probability)\n",
    "    return -np.sum(probability * np.log2(probability), axis=1)\n",
    "\n"
   ],
   "outputs": [],
   "execution_count": 4
  },
  {
   "metadata": {
    "ExecuteTime": {
     "end_time": "2024-09-13T13:43:51.229505Z",
     "start_time": "2024-09-13T13:43:51.216263Z"
    }
   },
   "cell_type": "code",
   "source": "Ent(np.array([[1,2,3],[4,5,6],[7,8,9]]))",
   "id": "2be1f13e072266c6",
   "outputs": [
    {
     "data": {
      "text/plain": [
       "array([1.45914792, 1.56559623, 1.57742877])"
      ]
     },
     "execution_count": 5,
     "metadata": {},
     "output_type": "execute_result"
    }
   ],
   "execution_count": 5
  },
  {
   "metadata": {
    "ExecuteTime": {
     "end_time": "2024-09-13T13:43:51.245091Z",
     "start_time": "2024-09-13T13:43:51.230499Z"
    }
   },
   "cell_type": "code",
   "source": [
    "tree=treelib.Tree()\n",
    "tree.create_node('root',0)\n",
    "tree.create_node('a',1,parent=0)\n",
    "tree.create_node('b',2,parent=0)\n",
    "tree.show()\n"
   ],
   "id": "102f411ad5f8efc2",
   "outputs": [
    {
     "name": "stdout",
     "output_type": "stream",
     "text": [
      "root\n",
      "├── a\n",
      "└── b\n",
      "\n"
     ]
    }
   ],
   "execution_count": 6
  },
  {
   "metadata": {
    "ExecuteTime": {
     "end_time": "2024-09-13T13:43:51.291345Z",
     "start_time": "2024-09-13T13:43:51.246087Z"
    }
   },
   "cell_type": "code",
   "source": [
    "data=pd.read_csv(\"../data/xigua.txt\")\n",
    "data=pd.concat([data.iloc[:,1:7],data.iloc[:,-1]],axis=1)\n",
    "data"
   ],
   "id": "2f5544dab4eb511a",
   "outputs": [
    {
     "data": {
      "text/plain": [
       "    色泽  根蒂  敲声  纹理  脐部  触感  好坏\n",
       "0   青绿  蜷缩  浊响  清晰  凹陷  硬滑  好瓜\n",
       "1   乌黑  蜷缩  沉闷  清晰  凹陷  硬滑  好瓜\n",
       "2   乌黑  蜷缩  浊响  清晰  凹陷  硬滑  好瓜\n",
       "3   青绿  蜷缩  沉闷  清晰  凹陷  硬滑  好瓜\n",
       "4   浅白  蜷缩  浊响  清晰  凹陷  硬滑  好瓜\n",
       "5   青绿  稍蜷  浊响  清晰  稍凹  软粘  好瓜\n",
       "6   乌黑  稍蜷  浊响  稍糊  稍凹  软粘  好瓜\n",
       "7   乌黑  稍蜷  浊响  清晰  稍凹  硬滑  好瓜\n",
       "8   乌黑  稍蜷  沉闷  稍糊  稍凹  硬滑  坏瓜\n",
       "9   青绿  硬挺  清脆  清晰  平坦  软粘  坏瓜\n",
       "10  浅白  硬挺  清脆  模糊  平坦  硬滑  坏瓜\n",
       "11  浅白  蜷缩  浊响  模糊  平坦  软粘  坏瓜\n",
       "12  青绿  稍蜷  浊响  稍糊  凹陷  硬滑  坏瓜\n",
       "13  浅白  稍蜷  沉闷  稍糊  凹陷  硬滑  坏瓜\n",
       "14  乌黑  稍蜷  浊响  清晰  稍凹  软粘  坏瓜\n",
       "15  浅白  蜷缩  浊响  模糊  平坦  硬滑  坏瓜\n",
       "16  青绿  蜷缩  沉闷  稍糊  稍凹  硬滑  坏瓜"
      ],
      "text/html": [
       "<div>\n",
       "<style scoped>\n",
       "    .dataframe tbody tr th:only-of-type {\n",
       "        vertical-align: middle;\n",
       "    }\n",
       "\n",
       "    .dataframe tbody tr th {\n",
       "        vertical-align: top;\n",
       "    }\n",
       "\n",
       "    .dataframe thead th {\n",
       "        text-align: right;\n",
       "    }\n",
       "</style>\n",
       "<table border=\"1\" class=\"dataframe\">\n",
       "  <thead>\n",
       "    <tr style=\"text-align: right;\">\n",
       "      <th></th>\n",
       "      <th>色泽</th>\n",
       "      <th>根蒂</th>\n",
       "      <th>敲声</th>\n",
       "      <th>纹理</th>\n",
       "      <th>脐部</th>\n",
       "      <th>触感</th>\n",
       "      <th>好坏</th>\n",
       "    </tr>\n",
       "  </thead>\n",
       "  <tbody>\n",
       "    <tr>\n",
       "      <th>0</th>\n",
       "      <td>青绿</td>\n",
       "      <td>蜷缩</td>\n",
       "      <td>浊响</td>\n",
       "      <td>清晰</td>\n",
       "      <td>凹陷</td>\n",
       "      <td>硬滑</td>\n",
       "      <td>好瓜</td>\n",
       "    </tr>\n",
       "    <tr>\n",
       "      <th>1</th>\n",
       "      <td>乌黑</td>\n",
       "      <td>蜷缩</td>\n",
       "      <td>沉闷</td>\n",
       "      <td>清晰</td>\n",
       "      <td>凹陷</td>\n",
       "      <td>硬滑</td>\n",
       "      <td>好瓜</td>\n",
       "    </tr>\n",
       "    <tr>\n",
       "      <th>2</th>\n",
       "      <td>乌黑</td>\n",
       "      <td>蜷缩</td>\n",
       "      <td>浊响</td>\n",
       "      <td>清晰</td>\n",
       "      <td>凹陷</td>\n",
       "      <td>硬滑</td>\n",
       "      <td>好瓜</td>\n",
       "    </tr>\n",
       "    <tr>\n",
       "      <th>3</th>\n",
       "      <td>青绿</td>\n",
       "      <td>蜷缩</td>\n",
       "      <td>沉闷</td>\n",
       "      <td>清晰</td>\n",
       "      <td>凹陷</td>\n",
       "      <td>硬滑</td>\n",
       "      <td>好瓜</td>\n",
       "    </tr>\n",
       "    <tr>\n",
       "      <th>4</th>\n",
       "      <td>浅白</td>\n",
       "      <td>蜷缩</td>\n",
       "      <td>浊响</td>\n",
       "      <td>清晰</td>\n",
       "      <td>凹陷</td>\n",
       "      <td>硬滑</td>\n",
       "      <td>好瓜</td>\n",
       "    </tr>\n",
       "    <tr>\n",
       "      <th>5</th>\n",
       "      <td>青绿</td>\n",
       "      <td>稍蜷</td>\n",
       "      <td>浊响</td>\n",
       "      <td>清晰</td>\n",
       "      <td>稍凹</td>\n",
       "      <td>软粘</td>\n",
       "      <td>好瓜</td>\n",
       "    </tr>\n",
       "    <tr>\n",
       "      <th>6</th>\n",
       "      <td>乌黑</td>\n",
       "      <td>稍蜷</td>\n",
       "      <td>浊响</td>\n",
       "      <td>稍糊</td>\n",
       "      <td>稍凹</td>\n",
       "      <td>软粘</td>\n",
       "      <td>好瓜</td>\n",
       "    </tr>\n",
       "    <tr>\n",
       "      <th>7</th>\n",
       "      <td>乌黑</td>\n",
       "      <td>稍蜷</td>\n",
       "      <td>浊响</td>\n",
       "      <td>清晰</td>\n",
       "      <td>稍凹</td>\n",
       "      <td>硬滑</td>\n",
       "      <td>好瓜</td>\n",
       "    </tr>\n",
       "    <tr>\n",
       "      <th>8</th>\n",
       "      <td>乌黑</td>\n",
       "      <td>稍蜷</td>\n",
       "      <td>沉闷</td>\n",
       "      <td>稍糊</td>\n",
       "      <td>稍凹</td>\n",
       "      <td>硬滑</td>\n",
       "      <td>坏瓜</td>\n",
       "    </tr>\n",
       "    <tr>\n",
       "      <th>9</th>\n",
       "      <td>青绿</td>\n",
       "      <td>硬挺</td>\n",
       "      <td>清脆</td>\n",
       "      <td>清晰</td>\n",
       "      <td>平坦</td>\n",
       "      <td>软粘</td>\n",
       "      <td>坏瓜</td>\n",
       "    </tr>\n",
       "    <tr>\n",
       "      <th>10</th>\n",
       "      <td>浅白</td>\n",
       "      <td>硬挺</td>\n",
       "      <td>清脆</td>\n",
       "      <td>模糊</td>\n",
       "      <td>平坦</td>\n",
       "      <td>硬滑</td>\n",
       "      <td>坏瓜</td>\n",
       "    </tr>\n",
       "    <tr>\n",
       "      <th>11</th>\n",
       "      <td>浅白</td>\n",
       "      <td>蜷缩</td>\n",
       "      <td>浊响</td>\n",
       "      <td>模糊</td>\n",
       "      <td>平坦</td>\n",
       "      <td>软粘</td>\n",
       "      <td>坏瓜</td>\n",
       "    </tr>\n",
       "    <tr>\n",
       "      <th>12</th>\n",
       "      <td>青绿</td>\n",
       "      <td>稍蜷</td>\n",
       "      <td>浊响</td>\n",
       "      <td>稍糊</td>\n",
       "      <td>凹陷</td>\n",
       "      <td>硬滑</td>\n",
       "      <td>坏瓜</td>\n",
       "    </tr>\n",
       "    <tr>\n",
       "      <th>13</th>\n",
       "      <td>浅白</td>\n",
       "      <td>稍蜷</td>\n",
       "      <td>沉闷</td>\n",
       "      <td>稍糊</td>\n",
       "      <td>凹陷</td>\n",
       "      <td>硬滑</td>\n",
       "      <td>坏瓜</td>\n",
       "    </tr>\n",
       "    <tr>\n",
       "      <th>14</th>\n",
       "      <td>乌黑</td>\n",
       "      <td>稍蜷</td>\n",
       "      <td>浊响</td>\n",
       "      <td>清晰</td>\n",
       "      <td>稍凹</td>\n",
       "      <td>软粘</td>\n",
       "      <td>坏瓜</td>\n",
       "    </tr>\n",
       "    <tr>\n",
       "      <th>15</th>\n",
       "      <td>浅白</td>\n",
       "      <td>蜷缩</td>\n",
       "      <td>浊响</td>\n",
       "      <td>模糊</td>\n",
       "      <td>平坦</td>\n",
       "      <td>硬滑</td>\n",
       "      <td>坏瓜</td>\n",
       "    </tr>\n",
       "    <tr>\n",
       "      <th>16</th>\n",
       "      <td>青绿</td>\n",
       "      <td>蜷缩</td>\n",
       "      <td>沉闷</td>\n",
       "      <td>稍糊</td>\n",
       "      <td>稍凹</td>\n",
       "      <td>硬滑</td>\n",
       "      <td>坏瓜</td>\n",
       "    </tr>\n",
       "  </tbody>\n",
       "</table>\n",
       "</div>"
      ]
     },
     "execution_count": 7,
     "metadata": {},
     "output_type": "execute_result"
    }
   ],
   "execution_count": 7
  },
  {
   "metadata": {
    "ExecuteTime": {
     "end_time": "2024-09-13T13:52:36.884990Z",
     "start_time": "2024-09-13T13:52:36.877653Z"
    }
   },
   "cell_type": "code",
   "source": "data[\"色泽\"].value_counts().index",
   "id": "918addac795cda2a",
   "outputs": [
    {
     "data": {
      "text/plain": [
       "Index(['青绿', '乌黑', '浅白'], dtype='object', name='色泽')"
      ]
     },
     "execution_count": 26,
     "metadata": {},
     "output_type": "execute_result"
    }
   ],
   "execution_count": 26
  },
  {
   "metadata": {
    "ExecuteTime": {
     "end_time": "2024-09-13T13:43:51.306805Z",
     "start_time": "2024-09-13T13:43:51.293345Z"
    }
   },
   "cell_type": "code",
   "source": [
    "a=data[\"好坏\"].value_counts().values\n",
    "a=a[None,:]\n",
    "a.shape"
   ],
   "id": "83d7ce5cdbe0e7cc",
   "outputs": [
    {
     "data": {
      "text/plain": [
       "(1, 2)"
      ]
     },
     "execution_count": 8,
     "metadata": {},
     "output_type": "execute_result"
    }
   ],
   "execution_count": 8
  },
  {
   "metadata": {
    "ExecuteTime": {
     "end_time": "2024-09-13T13:55:34.842241Z",
     "start_time": "2024-09-13T13:55:34.827721Z"
    }
   },
   "cell_type": "code",
   "source": "",
   "id": "47e13a0335eacb5c",
   "outputs": [
    {
     "data": {
      "text/plain": [
       "Node(tag={'feature': '好坏', 'Ent': array([0.87398105])}, identifier=0, data=None)"
      ]
     },
     "execution_count": 41,
     "metadata": {},
     "output_type": "execute_result"
    }
   ],
   "execution_count": 41
  },
  {
   "metadata": {
    "ExecuteTime": {
     "end_time": "2024-09-13T13:43:51.338077Z",
     "start_time": "2024-09-13T13:43:51.323514Z"
    }
   },
   "cell_type": "code",
   "source": "",
   "id": "8b0716c8f83fb3d8",
   "outputs": [],
   "execution_count": 9
  },
  {
   "metadata": {
    "ExecuteTime": {
     "end_time": "2024-09-13T14:12:08.423972Z",
     "start_time": "2024-09-13T14:12:08.402385Z"
    }
   },
   "cell_type": "code",
   "source": [
    "Tree=treelib.Tree()\n",
    "\n",
    "dic={}\n",
    "for i in range(data.shape[1]-1):\n",
    "    a=data.iloc[:,i].value_counts().values\n",
    "    a=a[None,:]\n",
    "    dic[data.iloc[:,i].name]=Ent(a)\n",
    "\n",
    "dic=sorted(dic.items(),key=lambda x:x[1],reverse=True)\n",
    "\n",
    "Tree.create_node(tag=dic[0][0],identifier=0)\n",
    "val=data[dic[0][0]].value_counts()\n",
    "for i in range(val.shape[0]):\n",
    "    Tree.create_node(tag=val.index[i],data={\"feature\":dic[0][0],\"Ent\":dic[0][1],\"value\":val[i]},identifier=1+i,parent=0)\n"
   ],
   "id": "43299eeefa9f60bd",
   "outputs": [],
   "execution_count": 72
  },
  {
   "metadata": {
    "ExecuteTime": {
     "end_time": "2024-09-13T14:01:52.962221Z",
     "start_time": "2024-09-13T14:01:52.946327Z"
    }
   },
   "cell_type": "code",
   "source": "Tree.get_node(1).data",
   "id": "750e46d16b8de3e4",
   "outputs": [
    {
     "data": {
      "text/plain": [
       "{'feature': '青绿', 'Ent': array([1.5798634]), 'value': 6}"
      ]
     },
     "execution_count": 63,
     "metadata": {},
     "output_type": "execute_result"
    }
   ],
   "execution_count": 63
  },
  {
   "metadata": {
    "ExecuteTime": {
     "end_time": "2024-09-13T14:12:11.196425Z",
     "start_time": "2024-09-13T14:12:11.182368Z"
    }
   },
   "cell_type": "code",
   "source": "Tree.to_graphviz(\"tree.dot\")",
   "id": "50107f22629e541c",
   "outputs": [],
   "execution_count": 73
  },
  {
   "metadata": {},
   "cell_type": "code",
   "outputs": [],
   "execution_count": null,
   "source": "",
   "id": "b9b48fc99338fd7e"
  }
 ],
 "metadata": {
  "kernelspec": {
   "display_name": "Python 3",
   "language": "python",
   "name": "python3"
  },
  "language_info": {
   "codemirror_mode": {
    "name": "ipython",
    "version": 2
   },
   "file_extension": ".py",
   "mimetype": "text/x-python",
   "name": "python",
   "nbconvert_exporter": "python",
   "pygments_lexer": "ipython2",
   "version": "2.7.6"
  }
 },
 "nbformat": 4,
 "nbformat_minor": 5
}
