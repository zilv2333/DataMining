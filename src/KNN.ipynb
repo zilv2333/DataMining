{
 "cells": [
  {
   "metadata": {},
   "cell_type": "markdown",
   "source": [
    "## KNN\n",
    "K-近邻算法（K-Nearest Neighbors, KNN）是一种基于实例的学习方法，属于监督学习范畴。它的工作原理简单直观：给定一个训练数据集，对新的输入实例，KNN算法通过计算其与训练集中每个实例的距离，找出距离最近的K个邻居，然后根据这些邻居的类别（对于分类任务）或值（对于回归任务）来预测新实例的类别或值。KNN因其简单高效和无需训练过程的特点，在众多领域中得到广泛应用，如模式识别、推荐系统、图像分类等。\n"
   ],
   "id": "a5ae8c1a4f5cc57"
  },
  {
   "metadata": {
    "ExecuteTime": {
     "end_time": "2024-09-12T12:06:33.100765Z",
     "start_time": "2024-09-12T12:06:32.560965Z"
    }
   },
   "cell_type": "code",
   "source": [
    "import pandas as pd\n",
    "import numpy as np\n",
    "import matplotlib.pyplot as plt\n",
    "\n",
    "\n"
   ],
   "id": "4e1ab25ec72fc1ad",
   "outputs": [],
   "execution_count": 1
  },
  {
   "metadata": {},
   "cell_type": "markdown",
   "source": [
    "<center>欧几里得距离:\n",
    "$$d(x,y)=\\sqrt{\\sum_{i=1}^n (x_{i}-y_{i})^2}$$"
   ],
   "id": "f5412c110ef123cf"
  },
  {
   "metadata": {
    "ExecuteTime": {
     "end_time": "2024-09-12T12:06:33.115778Z",
     "start_time": "2024-09-12T12:06:33.102766Z"
    }
   },
   "cell_type": "code",
   "source": [
    "def EuclideanDistance(x,y):\n",
    "    \"\"\"\n",
    "    Calculate the Euclidean distance between two points.\n",
    "    :param x: point 1\n",
    "    :param y: point 2\n",
    "    :return: the Euclidean distance\n",
    "    \"\"\"\n",
    "    x=np.array(x)\n",
    "    y=np.array(y)\n",
    "    return np.sqrt(np.sum((x-y)**2,axis=1))\n",
    "    "
   ],
   "id": "97440ee8db73f85",
   "outputs": [],
   "execution_count": 2
  },
  {
   "metadata": {},
   "cell_type": "markdown",
   "source": [
    "<center>曼哈顿距离:<br>\n",
    "$$d(x,y)=\\sum_{i=1}^n\\mid x_{i}-y_{i} \\mid$$"
   ],
   "id": "7041e288cbfabb76"
  },
  {
   "metadata": {
    "ExecuteTime": {
     "end_time": "2024-09-12T12:06:33.130917Z",
     "start_time": "2024-09-12T12:06:33.116780Z"
    }
   },
   "cell_type": "code",
   "source": [
    "def ManhattanDistance(x, y):\n",
    "    \"\"\"\n",
    "    Calculate the Manhattan distance between two points.\n",
    "    :param x: point 1,2D\n",
    "    :param y: point 2,2D\n",
    "    :return: the Manhattan distance\n",
    "    \"\"\"\n",
    "    x=np.array(x)\n",
    "    y=np.array(y)\n",
    "    return np.sum(np.abs(x-y), axis=1)"
   ],
   "id": "83c09d55282853d8",
   "outputs": [],
   "execution_count": 3
  },
  {
   "metadata": {},
   "cell_type": "markdown",
   "source": "",
   "id": "2e328337fae727f4"
  },
  {
   "metadata": {
    "ExecuteTime": {
     "end_time": "2024-09-12T12:06:33.145924Z",
     "start_time": "2024-09-12T12:06:33.132916Z"
    }
   },
   "cell_type": "code",
   "source": "",
   "id": "d8fb96d5355a23e7",
   "outputs": [],
   "execution_count": 3
  },
  {
   "metadata": {
    "ExecuteTime": {
     "end_time": "2024-09-12T12:06:33.161980Z",
     "start_time": "2024-09-12T12:06:33.146927Z"
    }
   },
   "cell_type": "code",
   "source": [
    "#Test\n",
    "x=[[1,2,3,4,5]]\n",
    "y=[[2,3,3,4,5]]\n",
    "EuclideanDistance(x,y),ManhattanDistance(x,y)\n"
   ],
   "id": "5fee4f665932a54b",
   "outputs": [
    {
     "data": {
      "text/plain": [
       "(array([1.41421356]), array([2]))"
      ]
     },
     "execution_count": 4,
     "metadata": {},
     "output_type": "execute_result"
    }
   ],
   "execution_count": 4
  },
  {
   "metadata": {
    "ExecuteTime": {
     "end_time": "2024-09-12T12:06:33.177172Z",
     "start_time": "2024-09-12T12:06:33.165025Z"
    }
   },
   "cell_type": "code",
   "source": [
    "def _Knn(Data:pd.DataFrame, Test, k, metric=EuclideanDistance):\n",
    "    \"\"\"\n",
    "    利用knn算法得到测试点所属类别\n",
    "    :param Test: 测试点\n",
    "    :param Data: dataframe类型，规定最后一列为类别\n",
    "    :param k: k的取值\n",
    "    :return: 类别\n",
    "    \"\"\"\n",
    "    Test=np.array(Test)\n",
    "    distance=pd.DataFrame(Data.iloc[:, -1].values, columns=[ \"class\"])  \n",
    "    for i in range(Test.shape[0]):\n",
    "        distance[\"distance{}\".format(i)]=metric(Test[i],Data.iloc[:,:-1])\n",
    "    res=[]\n",
    "    for i in range(Test.shape[0]):\n",
    "        distance_d=distance.sort_values(by=[\"distance{}\".format(i)]).iloc[0:k].reset_index(drop=True)\n",
    "        classCount={}\n",
    "        # print(distance_d)\n",
    "        for i in range(k):\n",
    "            classCount[distance_d[\"class\"][i]]=classCount.get(distance_d[\"class\"][i], 0)+1\n",
    "        sortedClassCount = sorted(classCount.items(),key=lambda x:x[1],reverse=True)\n",
    "        res.append(sortedClassCount[0][0])\n",
    "    return res\n",
    "    \n",
    "   \n",
    "        \n",
    "    \n",
    "\n",
    "    \n",
    "    "
   ],
   "id": "887f9ef451fef894",
   "outputs": [],
   "execution_count": 5
  },
  {
   "metadata": {
    "ExecuteTime": {
     "end_time": "2024-09-12T12:06:33.192676Z",
     "start_time": "2024-09-12T12:06:33.178172Z"
    }
   },
   "cell_type": "code",
   "source": "from func.Classfy import Knn",
   "id": "ba5433378e8561d6",
   "outputs": [],
   "execution_count": 6
  },
  {
   "metadata": {
    "ExecuteTime": {
     "end_time": "2024-09-12T12:06:33.207688Z",
     "start_time": "2024-09-12T12:06:33.193677Z"
    }
   },
   "cell_type": "code",
   "source": "",
   "id": "837818231cf564df",
   "outputs": [],
   "execution_count": 6
  },
  {
   "metadata": {
    "ExecuteTime": {
     "end_time": "2024-09-12T12:06:33.223704Z",
     "start_time": "2024-09-12T12:06:33.208688Z"
    }
   },
   "cell_type": "code",
   "source": [
    "data=pd.DataFrame({\"feature_1\":[1,1,1,5,5],\"feature_2\":[1,1,1,5,5],\"feature_3\":[1,1,1,5,5],\"class\": [\"A\",\"A\",\"A\",\"B\",\"C\"]})\n",
    "test=[[4,5,5],[3,5,5]]\n",
    "data"
   ],
   "id": "e57b68494cd4a6c7",
   "outputs": [
    {
     "data": {
      "text/plain": [
       "   feature_1  feature_2  feature_3 class\n",
       "0          1          1          1     A\n",
       "1          1          1          1     A\n",
       "2          1          1          1     A\n",
       "3          5          5          5     B\n",
       "4          5          5          5     C"
      ],
      "text/html": [
       "<div>\n",
       "<style scoped>\n",
       "    .dataframe tbody tr th:only-of-type {\n",
       "        vertical-align: middle;\n",
       "    }\n",
       "\n",
       "    .dataframe tbody tr th {\n",
       "        vertical-align: top;\n",
       "    }\n",
       "\n",
       "    .dataframe thead th {\n",
       "        text-align: right;\n",
       "    }\n",
       "</style>\n",
       "<table border=\"1\" class=\"dataframe\">\n",
       "  <thead>\n",
       "    <tr style=\"text-align: right;\">\n",
       "      <th></th>\n",
       "      <th>feature_1</th>\n",
       "      <th>feature_2</th>\n",
       "      <th>feature_3</th>\n",
       "      <th>class</th>\n",
       "    </tr>\n",
       "  </thead>\n",
       "  <tbody>\n",
       "    <tr>\n",
       "      <th>0</th>\n",
       "      <td>1</td>\n",
       "      <td>1</td>\n",
       "      <td>1</td>\n",
       "      <td>A</td>\n",
       "    </tr>\n",
       "    <tr>\n",
       "      <th>1</th>\n",
       "      <td>1</td>\n",
       "      <td>1</td>\n",
       "      <td>1</td>\n",
       "      <td>A</td>\n",
       "    </tr>\n",
       "    <tr>\n",
       "      <th>2</th>\n",
       "      <td>1</td>\n",
       "      <td>1</td>\n",
       "      <td>1</td>\n",
       "      <td>A</td>\n",
       "    </tr>\n",
       "    <tr>\n",
       "      <th>3</th>\n",
       "      <td>5</td>\n",
       "      <td>5</td>\n",
       "      <td>5</td>\n",
       "      <td>B</td>\n",
       "    </tr>\n",
       "    <tr>\n",
       "      <th>4</th>\n",
       "      <td>5</td>\n",
       "      <td>5</td>\n",
       "      <td>5</td>\n",
       "      <td>C</td>\n",
       "    </tr>\n",
       "  </tbody>\n",
       "</table>\n",
       "</div>"
      ]
     },
     "execution_count": 7,
     "metadata": {},
     "output_type": "execute_result"
    }
   ],
   "execution_count": 7
  },
  {
   "metadata": {
    "ExecuteTime": {
     "end_time": "2024-09-12T12:06:33.238879Z",
     "start_time": "2024-09-12T12:06:33.225104Z"
    }
   },
   "cell_type": "code",
   "source": [
    "model=Knn(k=5)\n",
    "model.fit(data)"
   ],
   "id": "e70e61b338677c9f",
   "outputs": [],
   "execution_count": 8
  },
  {
   "metadata": {
    "ExecuteTime": {
     "end_time": "2024-09-12T12:06:33.254469Z",
     "start_time": "2024-09-12T12:06:33.239879Z"
    }
   },
   "cell_type": "code",
   "source": "model.predict(test)",
   "id": "50f5f2c0deeb2941",
   "outputs": [
    {
     "data": {
      "text/plain": [
       "['A', 'A']"
      ]
     },
     "execution_count": 9,
     "metadata": {},
     "output_type": "execute_result"
    }
   ],
   "execution_count": 9
  },
  {
   "metadata": {
    "ExecuteTime": {
     "end_time": "2024-09-12T12:06:33.269869Z",
     "start_time": "2024-09-12T12:06:33.255484Z"
    }
   },
   "cell_type": "code",
   "source": "_Knn(data,test,5)",
   "id": "5a0b170da40fadc9",
   "outputs": [
    {
     "data": {
      "text/plain": [
       "['A', 'A']"
      ]
     },
     "execution_count": 10,
     "metadata": {},
     "output_type": "execute_result"
    }
   ],
   "execution_count": 10
  },
  {
   "metadata": {
    "ExecuteTime": {
     "end_time": "2024-09-12T12:06:33.737372Z",
     "start_time": "2024-09-12T12:06:33.270869Z"
    }
   },
   "cell_type": "code",
   "source": [
    "from sklearn.neighbors import KNeighborsClassifier\n",
    "from sklearn.datasets import load_iris\n",
    "\n",
    "iris=load_iris()\n",
    "iris_df=pd.DataFrame(iris.data,columns=[\"sepal-length\",\"sepal-width\",\"petal-length\",\"petal-width\"])\n",
    "iris_df[\"target\"]=iris[\"target\"]"
   ],
   "id": "d7d4417f5654ff4a",
   "outputs": [],
   "execution_count": 11
  },
  {
   "metadata": {
    "ExecuteTime": {
     "end_time": "2024-09-12T12:06:33.752879Z",
     "start_time": "2024-09-12T12:06:33.738372Z"
    }
   },
   "cell_type": "code",
   "source": "iris_df",
   "id": "b8feac478b003f96",
   "outputs": [
    {
     "data": {
      "text/plain": [
       "     sepal-length  sepal-width  petal-length  petal-width  target\n",
       "0             5.1          3.5           1.4          0.2       0\n",
       "1             4.9          3.0           1.4          0.2       0\n",
       "2             4.7          3.2           1.3          0.2       0\n",
       "3             4.6          3.1           1.5          0.2       0\n",
       "4             5.0          3.6           1.4          0.2       0\n",
       "..            ...          ...           ...          ...     ...\n",
       "145           6.7          3.0           5.2          2.3       2\n",
       "146           6.3          2.5           5.0          1.9       2\n",
       "147           6.5          3.0           5.2          2.0       2\n",
       "148           6.2          3.4           5.4          2.3       2\n",
       "149           5.9          3.0           5.1          1.8       2\n",
       "\n",
       "[150 rows x 5 columns]"
      ],
      "text/html": [
       "<div>\n",
       "<style scoped>\n",
       "    .dataframe tbody tr th:only-of-type {\n",
       "        vertical-align: middle;\n",
       "    }\n",
       "\n",
       "    .dataframe tbody tr th {\n",
       "        vertical-align: top;\n",
       "    }\n",
       "\n",
       "    .dataframe thead th {\n",
       "        text-align: right;\n",
       "    }\n",
       "</style>\n",
       "<table border=\"1\" class=\"dataframe\">\n",
       "  <thead>\n",
       "    <tr style=\"text-align: right;\">\n",
       "      <th></th>\n",
       "      <th>sepal-length</th>\n",
       "      <th>sepal-width</th>\n",
       "      <th>petal-length</th>\n",
       "      <th>petal-width</th>\n",
       "      <th>target</th>\n",
       "    </tr>\n",
       "  </thead>\n",
       "  <tbody>\n",
       "    <tr>\n",
       "      <th>0</th>\n",
       "      <td>5.1</td>\n",
       "      <td>3.5</td>\n",
       "      <td>1.4</td>\n",
       "      <td>0.2</td>\n",
       "      <td>0</td>\n",
       "    </tr>\n",
       "    <tr>\n",
       "      <th>1</th>\n",
       "      <td>4.9</td>\n",
       "      <td>3.0</td>\n",
       "      <td>1.4</td>\n",
       "      <td>0.2</td>\n",
       "      <td>0</td>\n",
       "    </tr>\n",
       "    <tr>\n",
       "      <th>2</th>\n",
       "      <td>4.7</td>\n",
       "      <td>3.2</td>\n",
       "      <td>1.3</td>\n",
       "      <td>0.2</td>\n",
       "      <td>0</td>\n",
       "    </tr>\n",
       "    <tr>\n",
       "      <th>3</th>\n",
       "      <td>4.6</td>\n",
       "      <td>3.1</td>\n",
       "      <td>1.5</td>\n",
       "      <td>0.2</td>\n",
       "      <td>0</td>\n",
       "    </tr>\n",
       "    <tr>\n",
       "      <th>4</th>\n",
       "      <td>5.0</td>\n",
       "      <td>3.6</td>\n",
       "      <td>1.4</td>\n",
       "      <td>0.2</td>\n",
       "      <td>0</td>\n",
       "    </tr>\n",
       "    <tr>\n",
       "      <th>...</th>\n",
       "      <td>...</td>\n",
       "      <td>...</td>\n",
       "      <td>...</td>\n",
       "      <td>...</td>\n",
       "      <td>...</td>\n",
       "    </tr>\n",
       "    <tr>\n",
       "      <th>145</th>\n",
       "      <td>6.7</td>\n",
       "      <td>3.0</td>\n",
       "      <td>5.2</td>\n",
       "      <td>2.3</td>\n",
       "      <td>2</td>\n",
       "    </tr>\n",
       "    <tr>\n",
       "      <th>146</th>\n",
       "      <td>6.3</td>\n",
       "      <td>2.5</td>\n",
       "      <td>5.0</td>\n",
       "      <td>1.9</td>\n",
       "      <td>2</td>\n",
       "    </tr>\n",
       "    <tr>\n",
       "      <th>147</th>\n",
       "      <td>6.5</td>\n",
       "      <td>3.0</td>\n",
       "      <td>5.2</td>\n",
       "      <td>2.0</td>\n",
       "      <td>2</td>\n",
       "    </tr>\n",
       "    <tr>\n",
       "      <th>148</th>\n",
       "      <td>6.2</td>\n",
       "      <td>3.4</td>\n",
       "      <td>5.4</td>\n",
       "      <td>2.3</td>\n",
       "      <td>2</td>\n",
       "    </tr>\n",
       "    <tr>\n",
       "      <th>149</th>\n",
       "      <td>5.9</td>\n",
       "      <td>3.0</td>\n",
       "      <td>5.1</td>\n",
       "      <td>1.8</td>\n",
       "      <td>2</td>\n",
       "    </tr>\n",
       "  </tbody>\n",
       "</table>\n",
       "<p>150 rows × 5 columns</p>\n",
       "</div>"
      ]
     },
     "execution_count": 12,
     "metadata": {},
     "output_type": "execute_result"
    }
   ],
   "execution_count": 12
  },
  {
   "metadata": {
    "ExecuteTime": {
     "end_time": "2024-09-12T12:06:33.768892Z",
     "start_time": "2024-09-12T12:06:33.754380Z"
    }
   },
   "cell_type": "code",
   "source": [
    "knn_model=KNeighborsClassifier(n_neighbors=50)\n",
    "x_test=np.array([[5,4,2,0.1],[6.7,3,5.2,2.3]])\n",
    "\n",
    "knn_model.fit(iris_df.iloc[:, :-1],iris_df[\"target\"])\n",
    "knn_model.predict(x_test),x_test"
   ],
   "id": "e47e0ce5fce2c0aa",
   "outputs": [
    {
     "name": "stderr",
     "output_type": "stream",
     "text": [
      "E:\\Anaconda3\\envs\\tor\\lib\\site-packages\\sklearn\\base.py:493: UserWarning: X does not have valid feature names, but KNeighborsClassifier was fitted with feature names\n",
      "  warnings.warn(\n"
     ]
    },
    {
     "data": {
      "text/plain": [
       "(array([0, 2]),\n",
       " array([[5. , 4. , 2. , 0.1],\n",
       "        [6.7, 3. , 5.2, 2.3]]))"
      ]
     },
     "execution_count": 13,
     "metadata": {},
     "output_type": "execute_result"
    }
   ],
   "execution_count": 13
  },
  {
   "metadata": {
    "ExecuteTime": {
     "end_time": "2024-09-12T12:06:34.239782Z",
     "start_time": "2024-09-12T12:06:33.769892Z"
    }
   },
   "cell_type": "code",
   "source": "Knn(iris_df,x_test,50)",
   "id": "3b2bc4ffea39fc44",
   "outputs": [
    {
     "ename": "TypeError",
     "evalue": "__init__() takes from 2 to 3 positional arguments but 4 were given",
     "output_type": "error",
     "traceback": [
      "\u001B[1;31m---------------------------------------------------------------------------\u001B[0m",
      "\u001B[1;31mTypeError\u001B[0m                                 Traceback (most recent call last)",
      "Cell \u001B[1;32mIn[14], line 1\u001B[0m\n\u001B[1;32m----> 1\u001B[0m \u001B[43mKnn\u001B[49m\u001B[43m(\u001B[49m\u001B[43miris_df\u001B[49m\u001B[43m,\u001B[49m\u001B[43mx_test\u001B[49m\u001B[43m,\u001B[49m\u001B[38;5;241;43m50\u001B[39;49m\u001B[43m)\u001B[49m\n",
      "\u001B[1;31mTypeError\u001B[0m: __init__() takes from 2 to 3 positional arguments but 4 were given"
     ]
    }
   ],
   "execution_count": 14
  },
  {
   "metadata": {
    "ExecuteTime": {
     "end_time": "2024-09-12T12:06:34.240782Z",
     "start_time": "2024-09-12T12:06:34.240782Z"
    }
   },
   "cell_type": "code",
   "source": "",
   "id": "2d96bb79c16397e4",
   "outputs": [],
   "execution_count": null
  }
 ],
 "metadata": {
  "kernelspec": {
   "display_name": "Python 3",
   "language": "python",
   "name": "python3"
  },
  "language_info": {
   "codemirror_mode": {
    "name": "ipython",
    "version": 2
   },
   "file_extension": ".py",
   "mimetype": "text/x-python",
   "name": "python",
   "nbconvert_exporter": "python",
   "pygments_lexer": "ipython2",
   "version": "2.7.6"
  }
 },
 "nbformat": 4,
 "nbformat_minor": 5
}
